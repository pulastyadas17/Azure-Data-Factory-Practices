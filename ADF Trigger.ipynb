{
 "cells": [
  {
   "cell_type": "code",
   "execution_count": 0,
   "metadata": {
    "application/vnd.databricks.v1+cell": {
     "cellMetadata": {
      "byteLimit": 2048000,
      "rowLimit": 10000
     },
     "inputWidgets": {},
     "nuid": "cd08775e-0b8f-4bb1-b4b2-c8036a1c0816",
     "showTitle": false,
     "title": ""
    }
   },
   "outputs": [],
   "source": [
    "jdbcHostname=\"adbadf.database.windows.net\"\n",
    "jdbcPort=1433\n",
    "jdbcDatabase='adbadf'\n",
    "jdbcUser='adbadf'\n",
    "jdbcPassword='Pulastya@17'\n",
    "jdbcDriver='com.microsoft.sqlserver.jdbc.SQLServerDrive'\n",
    "\n",
    "jdbcUrl=f\"jdbc:sqlserver://{jdbcHostname}:{jdbcPort};databaseName={jdbcDatabase};user={jdbcUser};password={jdbcPassword}\""
   ]
  },
  {
   "cell_type": "code",
   "execution_count": 0,
   "metadata": {
    "application/vnd.databricks.v1+cell": {
     "cellMetadata": {},
     "inputWidgets": {},
     "nuid": "8a43931f-334b-4107-8859-c0e750f934be",
     "showTitle": false,
     "title": ""
    }
   },
   "outputs": [],
   "source": [
    "print(\"JDBC step done successfully\")"
   ]
  },
  {
   "cell_type": "code",
   "execution_count": 0,
   "metadata": {
    "application/vnd.databricks.v1+cell": {
     "cellMetadata": {
      "byteLimit": 2048000,
      "rowLimit": 10000
     },
     "inputWidgets": {},
     "nuid": "632add86-a8d9-4ec6-9b83-707955bbd89a",
     "showTitle": false,
     "title": ""
    }
   },
   "outputs": [
    {
     "output_type": "stream",
     "name": "stdout",
     "output_type": "stream",
     "text": [
      "+--------+----+\n|PersonID|Name|\n+--------+----+\n|       1| Ram|\n+--------+----+\n\n"
     ]
    }
   ],
   "source": [
    "personDF=spark.read.format('jdbc').option(\"url\",jdbcUrl).option('dbtable',\"Person\").load()\n",
    "personDF.show()"
   ]
  },
  {
   "cell_type": "code",
   "execution_count": 0,
   "metadata": {
    "application/vnd.databricks.v1+cell": {
     "cellMetadata": {},
     "inputWidgets": {},
     "nuid": "5249c108-68b4-4e85-8c9b-0d09dc18d876",
     "showTitle": false,
     "title": ""
    }
   },
   "outputs": [],
   "source": [
    "print(\"Dataframe Loaded successfully\")"
   ]
  },
  {
   "cell_type": "code",
   "execution_count": 0,
   "metadata": {
    "application/vnd.databricks.v1+cell": {
     "cellMetadata": {},
     "inputWidgets": {},
     "nuid": "b6f58bbf-8060-49f6-8635-d02637c712d3",
     "showTitle": false,
     "title": ""
    }
   },
   "outputs": [],
   "source": [
    "dbutils.fs.unmount(\"/mnt/adbadf/output/\")"
   ]
  },
  {
   "cell_type": "code",
   "execution_count": 0,
   "metadata": {
    "application/vnd.databricks.v1+cell": {
     "cellMetadata": {},
     "inputWidgets": {},
     "nuid": "713e8770-d7a8-45df-af56-0a607e665938",
     "showTitle": false,
     "title": ""
    }
   },
   "outputs": [],
   "source": [
    "print(\"All previous unmount done successfully\")"
   ]
  },
  {
   "cell_type": "code",
   "execution_count": 0,
   "metadata": {
    "application/vnd.databricks.v1+cell": {
     "cellMetadata": {
      "byteLimit": 2048000,
      "rowLimit": 10000
     },
     "inputWidgets": {},
     "nuid": "aca17940-a1f8-4136-bdab-e5d4692640d1",
     "showTitle": false,
     "title": ""
    }
   },
   "outputs": [
    {
     "output_type": "execute_result",
     "data": {
      "text/plain": [
       "True"
      ]
     },
     "execution_count": 28,
     "metadata": {},
     "output_type": "execute_result"
    }
   ],
   "source": [
    "dbutils.fs.mount(source=\"wasbs://output@adlswithadbadf.blob.core.windows.net\",\n",
    "                 mount_point=\"/mnt/adbadf/output/\",\n",
    "                 extra_configs={\"fs.azure.account.key.adlswithadbadf.blob.core.windows.net\":\"VX8VQ67sNOdfg10HfDsAqHHWCQj3EzKHSEsKh2KjyZiuvCiKDQeDvj4b9NlZd47+0p/s6Ybsllj/+AStIfk+ag==\"})"
   ]
  },
  {
   "cell_type": "code",
   "execution_count": 0,
   "metadata": {
    "application/vnd.databricks.v1+cell": {
     "cellMetadata": {},
     "inputWidgets": {},
     "nuid": "9ddcef7f-80f0-4f5d-b3f9-256b4d04be87",
     "showTitle": false,
     "title": ""
    }
   },
   "outputs": [],
   "source": [
    "print(\"New mount done successfully\")"
   ]
  },
  {
   "cell_type": "code",
   "execution_count": 0,
   "metadata": {
    "application/vnd.databricks.v1+cell": {
     "cellMetadata": {},
     "inputWidgets": {},
     "nuid": "2f211577-fb00-44bb-a830-43c53d82ba2e",
     "showTitle": false,
     "title": ""
    }
   },
   "outputs": [],
   "source": [
    "# Check if the path exists\n",
    "path = \"/mnt/adbadf/output/\"\n",
    "if dbutils.fs.ls(path):\n",
    "    # Option 1: Overwrite existing data\n",
    "    from pyspark.sql.functions import *\n",
    "    personDF1=personDF.withColumn(\"Gender\",lit('Male'))\n",
    "    output_path=\"/mnt/adbadf/output/\"\n",
    "    personDF1.write.format('csv').option('header',True).mode('overwrite').save(output_path)\n",
    "    print(f\"Data written to {path} with overwrite mode.\")\n",
    "\n",
    "    # Option 2: Delete existing data before writing new data\n",
    "    # dbutils.fs.rm(path, recurse=True)\n",
    "    # df.write.format(\"csv\").save(path)\n",
    "    # print(f\"Data written to {path} after deleting existing data.\")\n",
    "\n",
    "    # Option 3: Write to a different path\n",
    "    # new_path = \"/mnt/adbadf/new_output\"\n",
    "    # df.write.format(\"csv\").save(new_path)\n",
    "    # print(f\"Data written to {new_path}.\")\n",
    "else:\n",
    "    # Path does not exist, proceed with writing data\n",
    "    personDF1.write.format(\"csv\").save(path)\n",
    "    print(f\"Data written to {path}.\")\n"
   ]
  },
  {
   "cell_type": "code",
   "execution_count": 0,
   "metadata": {
    "application/vnd.databricks.v1+cell": {
     "cellMetadata": {
      "byteLimit": 2048000,
      "rowLimit": 10000
     },
     "inputWidgets": {},
     "nuid": "033768ce-67b6-41d5-8ac4-9b193a9d04fa",
     "showTitle": false,
     "title": ""
    }
   },
   "outputs": [],
   "source": []
  },
  {
   "cell_type": "code",
   "execution_count": 0,
   "metadata": {
    "application/vnd.databricks.v1+cell": {
     "cellMetadata": {
      "byteLimit": 2048000,
      "rowLimit": 10000
     },
     "inputWidgets": {},
     "nuid": "fdeb70cd-8447-4c05-b040-d12565770f66",
     "showTitle": false,
     "title": ""
    }
   },
   "outputs": [
    {
     "output_type": "stream",
     "name": "stdout",
     "output_type": "stream",
     "text": [
      "+--------+----+------+\n|PersonID|Name|Gender|\n+--------+----+------+\n|       1| Ram|  Male|\n+--------+----+------+\n\n"
     ]
    }
   ],
   "source": [
    "personDF1.show()"
   ]
  },
  {
   "cell_type": "code",
   "execution_count": 0,
   "metadata": {
    "application/vnd.databricks.v1+cell": {
     "cellMetadata": {
      "byteLimit": 2048000,
      "rowLimit": 10000
     },
     "inputWidgets": {},
     "nuid": "6dbdebf0-a5f7-4784-b782-bdea7232f009",
     "showTitle": false,
     "title": ""
    }
   },
   "outputs": [
    {
     "output_type": "execute_result",
     "data": {
      "text/plain": [
       "[FileInfo(path='dbfs:/mnt/adbadf/output/new/_SUCCESS', name='_SUCCESS', size=0, modificationTime=1722571495000),\n",
       " FileInfo(path='dbfs:/mnt/adbadf/output/new/_committed_7064572703370366336', name='_committed_7064572703370366336', size=112, modificationTime=1722571494000),\n",
       " FileInfo(path='dbfs:/mnt/adbadf/output/new/_started_7064572703370366336', name='_started_7064572703370366336', size=0, modificationTime=1722571494000),\n",
       " FileInfo(path='dbfs:/mnt/adbadf/output/new/part-00000-tid-7064572703370366336-a1b74a25-6e99-4462-a9b9-426b5aafc637-12-1-c000.csv', name='part-00000-tid-7064572703370366336-a1b74a25-6e99-4462-a9b9-426b5aafc637-12-1-c000.csv', size=32, modificationTime=1722571494000)]"
      ]
     },
     "execution_count": 33,
     "metadata": {},
     "output_type": "execute_result"
    }
   ],
   "source": [
    "dbutils.fs.ls(\"/mnt/adbadf/output/new/\")"
   ]
  },
  {
   "cell_type": "code",
   "execution_count": 0,
   "metadata": {
    "application/vnd.databricks.v1+cell": {
     "cellMetadata": {},
     "inputWidgets": {},
     "nuid": "8eff4c8f-abf7-48c4-99ac-083c33590858",
     "showTitle": false,
     "title": ""
    }
   },
   "outputs": [],
   "source": [
    "print(\"Pipeline completed successfully\")"
   ]
  }
 ],
 "metadata": {
  "application/vnd.databricks.v1+notebook": {
   "dashboards": [],
   "environmentMetadata": {
    "base_environment": "",
    "client": "1"
   },
   "language": "python",
   "notebookMetadata": {
    "pythonIndentUnit": 4
   },
   "notebookName": "ADF Trigger",
   "widgets": {}
  }
 },
 "nbformat": 4,
 "nbformat_minor": 0
}
